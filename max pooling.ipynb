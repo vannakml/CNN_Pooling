{
 "cells": [
  {
   "cell_type": "code",
   "execution_count": 1,
   "metadata": {},
   "outputs": [],
   "source": [
    "import numpy as np \n",
    "from keras.models import Sequential \n",
    "from keras.layers import MaxPooling2D "
   ]
  },
  {
   "cell_type": "code",
   "execution_count": 2,
   "metadata": {},
   "outputs": [
    {
     "name": "stdout",
     "output_type": "stream",
     "text": [
      "[[9 7]\n",
      " [8 6]]\n"
     ]
    }
   ],
   "source": [
    "# define input image \n",
    "image = np.array([  [2, 2, 7, 3], \n",
    "                    [9, 4, 6, 1], \n",
    "                    [8, 5, 2, 4], \n",
    "                    [3, 1, 2, 6]]) \n",
    "\n",
    "image = image.reshape(1, 4, 4, 1) \n",
    "  \n",
    "# define model containing just a single max pooling layer \n",
    "model = Sequential( \n",
    "    [MaxPooling2D(pool_size = (2,2))]) \n",
    "  \n",
    "# generate pooled output \n",
    "output = model.predict(image) \n",
    "  \n",
    "# print output image \n",
    "output = np.squeeze(output) \n",
    "print(output)"
   ]
  },
  {
   "cell_type": "code",
   "execution_count": null,
   "metadata": {},
   "outputs": [],
   "source": []
  }
 ],
 "metadata": {
  "kernelspec": {
   "display_name": "Python 3",
   "language": "python",
   "name": "python3"
  },
  "language_info": {
   "codemirror_mode": {
    "name": "ipython",
    "version": 3
   },
   "file_extension": ".py",
   "mimetype": "text/x-python",
   "name": "python",
   "nbconvert_exporter": "python",
   "pygments_lexer": "ipython3",
   "version": "3.8.6"
  }
 },
 "nbformat": 4,
 "nbformat_minor": 4
}
